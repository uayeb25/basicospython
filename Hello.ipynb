{
 "cells": [
  {
   "cell_type": "markdown",
   "id": "991f2c68-db85-42c6-ab1b-f932437073a2",
   "metadata": {},
   "source": [
    "# Basicos en Python"
   ]
  },
  {
   "cell_type": "markdown",
   "id": "e4376f4e-e644-47c1-9935-14ec1e3a2ab0",
   "metadata": {},
   "source": [
    "## Instalación de nuevas librerías"
   ]
  },
  {
   "cell_type": "code",
   "execution_count": 3,
   "id": "c0567136-5283-4359-aba2-8fa39f08066e",
   "metadata": {},
   "outputs": [
    {
     "name": "stdout",
     "output_type": "stream",
     "text": [
      "Collecting simpy\n",
      "  Downloading simpy-4.1.1-py3-none-any.whl.metadata (6.1 kB)\n",
      "Downloading simpy-4.1.1-py3-none-any.whl (27 kB)\n",
      "Installing collected packages: simpy\n",
      "Successfully installed simpy-4.1.1\n",
      "Note: you may need to restart the kernel to use updated packages.\n"
     ]
    }
   ],
   "source": [
    "%pip install simpy"
   ]
  },
  {
   "cell_type": "markdown",
   "id": "fdeb7f5b-04de-4890-af71-c33fe08c13a1",
   "metadata": {},
   "source": [
    "## Importación de librerias"
   ]
  },
  {
   "cell_type": "code",
   "execution_count": 2,
   "id": "ea686375-f4e3-4cb2-adef-ed886b0b7bd6",
   "metadata": {
    "editable": true,
    "slideshow": {
     "slide_type": ""
    },
    "tags": []
   },
   "outputs": [],
   "source": [
    "import pandas as pd\n",
    "import simpy"
   ]
  },
  {
   "cell_type": "markdown",
   "id": "3f658fe0-7c57-47d1-a4d4-774019ca7e6c",
   "metadata": {},
   "source": [
    "## Declaración de funciones"
   ]
  },
  {
   "cell_type": "code",
   "execution_count": 3,
   "id": "3bd0de69-cd24-45ad-819b-833f67093352",
   "metadata": {},
   "outputs": [],
   "source": [
    "def suma(a, b):\n",
    "    return a + b"
   ]
  },
  {
   "cell_type": "code",
   "execution_count": 4,
   "id": "438b9173-a786-4ca7-9678-1bdd9879db7c",
   "metadata": {},
   "outputs": [
    {
     "data": {
      "text/plain": [
       "6"
      ]
     },
     "execution_count": 4,
     "metadata": {},
     "output_type": "execute_result"
    }
   ],
   "source": [
    "suma(2,4)"
   ]
  },
  {
   "cell_type": "code",
   "execution_count": 1,
   "id": "fdc424c0-a7fa-4567-9576-86f0b0b0df99",
   "metadata": {},
   "outputs": [],
   "source": [
    "a = 1"
   ]
  },
  {
   "cell_type": "code",
   "execution_count": null,
   "id": "c4e0ce14",
   "metadata": {},
   "outputs": [],
   "source": []
  }
 ],
 "metadata": {
  "kernelspec": {
   "display_name": "Python 3 (ipykernel)",
   "language": "python",
   "name": "python3"
  },
  "language_info": {
   "codemirror_mode": {
    "name": "ipython",
    "version": 3
   },
   "file_extension": ".py",
   "mimetype": "text/x-python",
   "name": "python",
   "nbconvert_exporter": "python",
   "pygments_lexer": "ipython3",
   "version": "3.11.5"
  }
 },
 "nbformat": 4,
 "nbformat_minor": 5
}
