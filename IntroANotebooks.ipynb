{
 "cells": [
  {
   "cell_type": "markdown",
   "id": "5fddff0d-4eba-4bed-87e1-2d2f3f0a0e4e",
   "metadata": {},
   "source": [
    "### Imports de la librerias que vamos a utilizar"
   ]
  },
  {
   "cell_type": "code",
   "execution_count": 4,
   "id": "3f039e9b-5193-4202-a009-7d6c2fd6485f",
   "metadata": {},
   "outputs": [],
   "source": [
    "import random\n",
    "import pandas as pd\n",
    "import numpy as np"
   ]
  },
  {
   "cell_type": "markdown",
   "id": "d569d003-8ceb-4afe-8f5a-a0edc2e3bb56",
   "metadata": {},
   "source": [
    "### Operaciones matematicas "
   ]
  },
  {
   "cell_type": "code",
   "execution_count": 17,
   "id": "6aee9f33-67d3-417b-b060-f81a849343fb",
   "metadata": {},
   "outputs": [],
   "source": [
    "a = 6\n",
    "b = 3"
   ]
  },
  {
   "cell_type": "code",
   "execution_count": 4,
   "id": "0821a266-6e45-4c24-a7e3-bf7d4621a197",
   "metadata": {},
   "outputs": [
    {
     "data": {
      "text/plain": [
       "8"
      ]
     },
     "execution_count": 4,
     "metadata": {},
     "output_type": "execute_result"
    }
   ],
   "source": [
    "a + b"
   ]
  },
  {
   "cell_type": "code",
   "execution_count": 5,
   "id": "0d053495-d73f-4da9-9ed8-261fc98a57ad",
   "metadata": {},
   "outputs": [
    {
     "data": {
      "text/plain": [
       "4"
      ]
     },
     "execution_count": 5,
     "metadata": {},
     "output_type": "execute_result"
    }
   ],
   "source": [
    "a - b"
   ]
  },
  {
   "cell_type": "code",
   "execution_count": 19,
   "id": "7b6cc2f0-ce0a-4f2f-8f5c-c3b9d5ff083e",
   "metadata": {},
   "outputs": [
    {
     "data": {
      "text/plain": [
       "18"
      ]
     },
     "execution_count": 19,
     "metadata": {},
     "output_type": "execute_result"
    }
   ],
   "source": [
    "a * b"
   ]
  },
  {
   "cell_type": "code",
   "execution_count": 7,
   "id": "306dca49-6963-4b42-b081-ad58d8030ff7",
   "metadata": {},
   "outputs": [
    {
     "data": {
      "text/plain": [
       "3.0"
      ]
     },
     "execution_count": 7,
     "metadata": {},
     "output_type": "execute_result"
    }
   ],
   "source": [
    "a / b"
   ]
  },
  {
   "cell_type": "markdown",
   "id": "d352c10d-8c5c-473b-ab51-6c9a4b72dc04",
   "metadata": {
    "scrolled": true
   },
   "source": [
    "### Codigo generado con el asistente o agente de IA de anacondas"
   ]
  },
  {
   "cell_type": "code",
   "execution_count": 9,
   "id": "49242faa-0cf5-472a-bb9c-ec46db9690d3",
   "metadata": {},
   "outputs": [
    {
     "name": "stdout",
     "output_type": "stream",
     "text": [
      "   Column_1  Column_2  Column_3  Column_4  Column_5\n",
      "0  0.548814  0.715189  0.602763  0.544883  0.423655\n",
      "1  0.645894  0.437587  0.891773  0.963663  0.383442\n",
      "2  0.791725  0.528895  0.568045  0.925597  0.071036\n",
      "3  0.087129  0.020218  0.832620  0.778157  0.870012\n",
      "4  0.978618  0.799159  0.461479  0.780529  0.118274\n",
      "5  0.639921  0.143353  0.944669  0.521848  0.414662\n",
      "6  0.264556  0.774234  0.456150  0.568434  0.018790\n",
      "7  0.617635  0.612096  0.616934  0.943748  0.681820\n",
      "8  0.359508  0.437032  0.697631  0.060225  0.666767\n",
      "9  0.670638  0.210383  0.128926  0.315428  0.363711\n"
     ]
    }
   ],
   "source": [
    "import pandas as pd\n",
    "import numpy as np\n",
    "\n",
    "# Set the random seed for reproducibility\n",
    "np.random.seed(0)\n",
    "\n",
    "# Create a DataFrame with random data\n",
    "num_rows = 10  # Specify the number of rows\n",
    "num_columns = 5  # Specify the number of columns\n",
    "random_data = np.random.rand(num_rows, num_columns)  # Generate random numbers\n",
    "df = pd.DataFrame(random_data, columns=[f'Column_{i+1}' for i in range(num_columns)])  # Create DataFrame\n",
    "\n",
    "print(df)  # Display the DataFrame"
   ]
  },
  {
   "cell_type": "code",
   "execution_count": 11,
   "id": "962d3c41-89d2-4840-8e04-c881e73ead78",
   "metadata": {},
   "outputs": [
    {
     "name": "stdout",
     "output_type": "stream",
     "text": [
      "   Column_1  Column_2  Column_3  Column_4  Column_5    Ciudad\n",
      "0  0.548814  0.715189  0.602763  0.544883  0.423655  Ciudad_B\n",
      "1  0.645894  0.437587  0.891773  0.963663  0.383442  Ciudad_C\n",
      "2  0.791725  0.528895  0.568045  0.925597  0.071036  Ciudad_E\n",
      "3  0.087129  0.020218  0.832620  0.778157  0.870012  Ciudad_D\n",
      "4  0.978618  0.799159  0.461479  0.780529  0.118274  Ciudad_E\n",
      "5  0.639921  0.143353  0.944669  0.521848  0.414662  Ciudad_E\n",
      "6  0.264556  0.774234  0.456150  0.568434  0.018790  Ciudad_E\n",
      "7  0.617635  0.612096  0.616934  0.943748  0.681820  Ciudad_D\n",
      "8  0.359508  0.437032  0.697631  0.060225  0.666767  Ciudad_E\n",
      "9  0.670638  0.210383  0.128926  0.315428  0.363711  Ciudad_E\n"
     ]
    }
   ],
   "source": [
    "import pandas as pd\n",
    "import numpy as np\n",
    "\n",
    "# Establecer la semilla aleatoria para la reproducibilidad\n",
    "np.random.seed(0)\n",
    "\n",
    "# Crear un DataFrame con datos aleatorios\n",
    "num_rows = 10  # Especificar el número de filas\n",
    "num_columns = 5  # Especificar el número de columnas\n",
    "random_data = np.random.rand(num_rows, num_columns)  # Generar números aleatorios\n",
    "df = pd.DataFrame(random_data, columns=[f'Column_{i+1}' for i in range(num_columns)])  # Crear DataFrame\n",
    "\n",
    "# Lista de ciudades\n",
    "ciudades = ['Ciudad_A', 'Ciudad_B', 'Ciudad_C', 'Ciudad_D', 'Ciudad_E']\n",
    "\n",
    "# Agregar una columna de ciudades con valores numéricos aleatorios\n",
    "df['Ciudad'] = np.random.choice(ciudades, size=num_rows)  # Asignar ciudades aleatorias\n",
    "\n",
    "print(df)  # Mostrar el DataFrame"
   ]
  },
  {
   "cell_type": "code",
   "execution_count": null,
   "id": "fc20d94a-3af3-4592-a579-447ce9129adf",
   "metadata": {},
   "outputs": [],
   "source": []
  }
 ],
 "metadata": {
  "kernelspec": {
   "display_name": "Python 3 (ipykernel)",
   "language": "python",
   "name": "python3"
  },
  "language_info": {
   "codemirror_mode": {
    "name": "ipython",
    "version": 3
   },
   "file_extension": ".py",
   "mimetype": "text/x-python",
   "name": "python",
   "nbconvert_exporter": "python",
   "pygments_lexer": "ipython3",
   "version": "3.11.5"
  }
 },
 "nbformat": 4,
 "nbformat_minor": 5
}
