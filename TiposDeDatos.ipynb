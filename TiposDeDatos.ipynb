{
 "cells": [
  {
   "cell_type": "markdown",
   "id": "9322656e-cdd8-42e1-a7e3-0940878a1d4a",
   "metadata": {},
   "source": [
    "# Tipos de datos"
   ]
  },
  {
   "cell_type": "markdown",
   "id": "9d5a27ee-55e3-469d-b602-62c7913e2aa4",
   "metadata": {},
   "source": [
    "## 1. Numéricos"
   ]
  },
  {
   "cell_type": "markdown",
   "id": "8c27355f-fabd-434b-b6f6-3e8f132bd8d1",
   "metadata": {},
   "source": [
    "Enteros"
   ]
  },
  {
   "cell_type": "code",
   "execution_count": 45,
   "id": "92a9f8b0-86c5-41cd-aeb6-dfea885debbe",
   "metadata": {},
   "outputs": [],
   "source": [
    "edad = 30\n",
    "temperatura = -3"
   ]
  },
  {
   "cell_type": "markdown",
   "id": "dbe8e819-c861-4ea1-8a17-849b106c0174",
   "metadata": {},
   "source": [
    "Flotante"
   ]
  },
  {
   "cell_type": "code",
   "execution_count": 48,
   "id": "6e25b56c-b40c-4785-a534-5f70fb9c45fc",
   "metadata": {},
   "outputs": [],
   "source": [
    "precio = 19.99"
   ]
  },
  {
   "cell_type": "markdown",
   "id": "d148a600-4c83-4992-8c9b-6fd1e6756a24",
   "metadata": {},
   "source": [
    "Complejos (complex)"
   ]
  },
  {
   "cell_type": "code",
   "execution_count": 54,
   "id": "b08eb599-8d1c-4229-a5c0-65727c93ef6d",
   "metadata": {},
   "outputs": [],
   "source": [
    "numero_complejo = 3 + 4j"
   ]
  },
  {
   "cell_type": "code",
   "execution_count": 56,
   "id": "b38ab8bc-738f-439a-82e6-c62746a46e9d",
   "metadata": {},
   "outputs": [
    {
     "data": {
      "text/plain": [
       "(3+4j)"
      ]
     },
     "execution_count": 56,
     "metadata": {},
     "output_type": "execute_result"
    }
   ],
   "source": [
    "numero_complejo"
   ]
  },
  {
   "cell_type": "markdown",
   "id": "42acff31-478f-48f8-a21a-e3d2ef50d42f",
   "metadata": {},
   "source": [
    "## 2. Boolean"
   ]
  },
  {
   "cell_type": "code",
   "execution_count": 188,
   "id": "25c8f240-5354-4ee2-919c-74eb9c835676",
   "metadata": {},
   "outputs": [],
   "source": [
    "mayor_de_edad = False\n",
    "m_edad = True"
   ]
  },
  {
   "cell_type": "code",
   "execution_count": 208,
   "id": "34b15120-2aeb-4854-9a93-64842912a533",
   "metadata": {},
   "outputs": [],
   "source": [
    "is_loe = 5 <= 3"
   ]
  },
  {
   "cell_type": "code",
   "execution_count": 210,
   "id": "6db8a173-1253-4c0d-afd0-acf33f6620f0",
   "metadata": {},
   "outputs": [
    {
     "data": {
      "text/plain": [
       "False"
      ]
     },
     "execution_count": 210,
     "metadata": {},
     "output_type": "execute_result"
    }
   ],
   "source": [
    "is_loe"
   ]
  },
  {
   "cell_type": "markdown",
   "id": "0bdadd28-8fcd-45fe-b7c4-bb2249713f78",
   "metadata": {},
   "source": [
    "## 3. Cadenas de texto"
   ]
  },
  {
   "cell_type": "code",
   "execution_count": 77,
   "id": "d6cebbb9-0d2e-4234-a269-28935b3cfc5a",
   "metadata": {},
   "outputs": [],
   "source": [
    "nombre = \"Corina\""
   ]
  },
  {
   "cell_type": "code",
   "execution_count": 65,
   "id": "86dc2d51-1472-4510-9696-31407f89245f",
   "metadata": {},
   "outputs": [
    {
     "data": {
      "text/plain": [
       "'Aurora'"
      ]
     },
     "execution_count": 65,
     "metadata": {},
     "output_type": "execute_result"
    }
   ],
   "source": [
    "nombre"
   ]
  },
  {
   "cell_type": "code",
   "execution_count": 83,
   "id": "0c6793d9-3b6b-4b78-86e3-d41e765f7dbb",
   "metadata": {},
   "outputs": [],
   "source": [
    "parrafo = \"\"\"\n",
    "    Hola, mi nombre es Aurora, y, me gusta mucho:\n",
    "        - la lectura\n",
    "        - ver películas\n",
    "\"\"\""
   ]
  },
  {
   "cell_type": "code",
   "execution_count": 81,
   "id": "738793f4-d444-41b3-bcc1-0f06fd83f5a0",
   "metadata": {},
   "outputs": [
    {
     "data": {
      "text/plain": [
       "'\\n    Hola, mi nombre es Corina, y, me gusta mucho:\\n        - la lectura\\n        - ver películas\\n'"
      ]
     },
     "execution_count": 81,
     "metadata": {},
     "output_type": "execute_result"
    }
   ],
   "source": [
    "parrafo"
   ]
  },
  {
   "cell_type": "code",
   "execution_count": 79,
   "id": "30872e02-682b-47a4-bf5f-262531321355",
   "metadata": {},
   "outputs": [],
   "source": [
    "parrafo = f\"\"\"\n",
    "    Hola, mi nombre es { nombre }, y, me gusta mucho:\n",
    "        - la lectura\n",
    "        - ver películas\n",
    "\"\"\""
   ]
  },
  {
   "cell_type": "code",
   "execution_count": 87,
   "id": "9c1ad395-7aaa-4ff1-82c3-d784ec8bfdb6",
   "metadata": {},
   "outputs": [],
   "source": [
    "schema = \"dbo\"\n",
    "table = \"employees\"\n",
    "\n",
    "query = f\"\"\" \n",
    "    select * \n",
    "    from {schema}.{table}\n",
    "\"\"\"\n"
   ]
  },
  {
   "cell_type": "code",
   "execution_count": 89,
   "id": "c05c9111-bfe6-4bd1-8435-fcbdd0d5d75d",
   "metadata": {},
   "outputs": [
    {
     "data": {
      "text/plain": [
       "' \\n    select * from dbo.employees\\n'"
      ]
     },
     "execution_count": 89,
     "metadata": {},
     "output_type": "execute_result"
    }
   ],
   "source": [
    "query"
   ]
  },
  {
   "cell_type": "markdown",
   "id": "c847f0f6-776b-41c2-b4b6-10e4b7733367",
   "metadata": {},
   "source": [
    "## 4. Listas"
   ]
  },
  {
   "cell_type": "code",
   "execution_count": 161,
   "id": "7b6bffed-04e8-4767-9001-6793dd69a5ac",
   "metadata": {},
   "outputs": [],
   "source": [
    "columnas = [ \"id\" , \"firstname\" , \"lastname\" ]"
   ]
  },
  {
   "cell_type": "code",
   "execution_count": 123,
   "id": "94a1df9c-ce38-4a10-bc45-c88cc5162f04",
   "metadata": {},
   "outputs": [
    {
     "data": {
      "text/plain": [
       "'firstname'"
      ]
     },
     "execution_count": 123,
     "metadata": {},
     "output_type": "execute_result"
    }
   ],
   "source": [
    "columnas[1]"
   ]
  },
  {
   "cell_type": "code",
   "execution_count": 125,
   "id": "0905c876-ae18-4595-8b20-44798550b642",
   "metadata": {},
   "outputs": [],
   "source": [
    "columns_inraw = \",\".join( columnas )"
   ]
  },
  {
   "cell_type": "code",
   "execution_count": 127,
   "id": "8f7d17c5-5137-4c86-a728-509b69b7d7c6",
   "metadata": {},
   "outputs": [],
   "source": [
    "query = f\"\"\" \n",
    "    select { columns_inraw } \n",
    "    from {schema}.{table}\n",
    "\"\"\""
   ]
  },
  {
   "cell_type": "code",
   "execution_count": 129,
   "id": "2886e8d8-de0b-4f4e-a524-da4a86cb7e89",
   "metadata": {},
   "outputs": [
    {
     "data": {
      "text/plain": [
       "' \\n    select id,firstname,lastname,address \\n    from dbo.employees\\n'"
      ]
     },
     "execution_count": 129,
     "metadata": {},
     "output_type": "execute_result"
    }
   ],
   "source": [
    "query"
   ]
  },
  {
   "cell_type": "code",
   "execution_count": 131,
   "id": "3ec9f96a-9c9a-4721-8d7e-d1fc4329b726",
   "metadata": {},
   "outputs": [],
   "source": [
    "columnas.append( \"address\" )"
   ]
  },
  {
   "cell_type": "markdown",
   "id": "122b94b9-d19d-45a9-a856-001b998268be",
   "metadata": {},
   "source": [
    "*Eliminar elementos*"
   ]
  },
  {
   "cell_type": "code",
   "execution_count": 147,
   "id": "811c9ea7-cd21-4a24-947a-cb3ebf320007",
   "metadata": {},
   "outputs": [],
   "source": [
    "columnas.remove( \"address\" )"
   ]
  },
  {
   "cell_type": "code",
   "execution_count": 149,
   "id": "a4f43f94-1f39-4ae2-b991-667bf1525f3e",
   "metadata": {},
   "outputs": [
    {
     "data": {
      "text/plain": [
       "['firstname', 'lastname', 'address']"
      ]
     },
     "execution_count": 149,
     "metadata": {},
     "output_type": "execute_result"
    }
   ],
   "source": [
    "columnas"
   ]
  },
  {
   "cell_type": "code",
   "execution_count": 151,
   "id": "89e69eff-4300-46e0-a47d-6371249ce245",
   "metadata": {},
   "outputs": [
    {
     "data": {
      "text/plain": [
       "'address'"
      ]
     },
     "execution_count": 151,
     "metadata": {},
     "output_type": "execute_result"
    }
   ],
   "source": [
    "columnas.pop( 2 )"
   ]
  },
  {
   "cell_type": "code",
   "execution_count": 157,
   "id": "97cf899e-a81a-4d1a-80d8-4b77a88935ce",
   "metadata": {},
   "outputs": [],
   "source": [
    "del columnas[1]"
   ]
  },
  {
   "cell_type": "code",
   "execution_count": 165,
   "id": "5fd69c3d-5a4d-4933-ae42-bdaf8dd6332d",
   "metadata": {},
   "outputs": [],
   "source": [
    "columnas.clear()"
   ]
  },
  {
   "cell_type": "code",
   "execution_count": 167,
   "id": "e11638cf-b825-498c-b271-7fd449a86cb7",
   "metadata": {},
   "outputs": [
    {
     "data": {
      "text/plain": [
       "[]"
      ]
     },
     "execution_count": 167,
     "metadata": {},
     "output_type": "execute_result"
    }
   ],
   "source": [
    "columnas"
   ]
  },
  {
   "cell_type": "code",
   "execution_count": 173,
   "id": "d364b1f6-2938-4f96-93b3-7b8f0f13ce0e",
   "metadata": {},
   "outputs": [],
   "source": [
    "numeros = [ i for i in range(10, 21) ]"
   ]
  },
  {
   "cell_type": "code",
   "execution_count": 175,
   "id": "cf97e9dc-8266-4772-bc21-f05b83923384",
   "metadata": {
    "scrolled": true
   },
   "outputs": [
    {
     "data": {
      "text/plain": [
       "[10, 11, 12, 13, 14, 15, 16, 17, 18, 19, 20]"
      ]
     },
     "execution_count": 175,
     "metadata": {},
     "output_type": "execute_result"
    }
   ],
   "source": [
    "numeros"
   ]
  },
  {
   "cell_type": "code",
   "execution_count": 177,
   "id": "b283d57c-e2a3-4a56-9895-5ef86ff650b5",
   "metadata": {},
   "outputs": [],
   "source": [
    "def es_par( n ):\n",
    "    return n % 2 == 0"
   ]
  },
  {
   "cell_type": "code",
   "execution_count": 219,
   "id": "48745f98-ae52-4926-8ef7-f94c09818bea",
   "metadata": {},
   "outputs": [
    {
     "data": {
      "text/plain": [
       "[10, 12, 14, 16, 18, 20]"
      ]
     },
     "execution_count": 219,
     "metadata": {},
     "output_type": "execute_result"
    }
   ],
   "source": [
    "list( filter( es_par , numeros ) )"
   ]
  },
  {
   "cell_type": "code",
   "execution_count": 225,
   "id": "6ee2a3fc-3e7d-4e31-989d-0f53aba37917",
   "metadata": {},
   "outputs": [
    {
     "data": {
      "text/plain": [
       "[10, 12, 14, 16, 18, 20]"
      ]
     },
     "execution_count": 225,
     "metadata": {},
     "output_type": "execute_result"
    }
   ],
   "source": [
    "[ i for i in  numeros if i%2 == 0 ]"
   ]
  },
  {
   "cell_type": "markdown",
   "id": "d5bde0df-b180-48b1-ab72-7c9507b05de5",
   "metadata": {},
   "source": [
    "### 5. set"
   ]
  },
  {
   "cell_type": "code",
   "execution_count": 231,
   "id": "1856d769-6a99-43a9-899f-3735695c25f6",
   "metadata": {},
   "outputs": [],
   "source": [
    "numeros = { 1, 1, 1, 2 }"
   ]
  },
  {
   "cell_type": "code",
   "execution_count": 235,
   "id": "f96047e9-cfaf-48f1-9823-d8af91e7ba9f",
   "metadata": {},
   "outputs": [],
   "source": [
    "numeros.add( 2 )"
   ]
  },
  {
   "cell_type": "code",
   "execution_count": 237,
   "id": "91d3a4bf-1235-4f92-83a0-b5f2369e3a9b",
   "metadata": {},
   "outputs": [
    {
     "data": {
      "text/plain": [
       "{1, 2}"
      ]
     },
     "execution_count": 237,
     "metadata": {},
     "output_type": "execute_result"
    }
   ],
   "source": [
    "numeros"
   ]
  },
  {
   "cell_type": "code",
   "execution_count": 239,
   "id": "157f45e4-8d06-4c32-83cb-679fc8a34cc9",
   "metadata": {},
   "outputs": [],
   "source": [
    "numeros.add( 3 )"
   ]
  },
  {
   "cell_type": "code",
   "execution_count": 241,
   "id": "a2ec5e59-91f4-4209-b10a-1741d9d3ddae",
   "metadata": {},
   "outputs": [
    {
     "data": {
      "text/plain": [
       "{1, 2, 3}"
      ]
     },
     "execution_count": 241,
     "metadata": {},
     "output_type": "execute_result"
    }
   ],
   "source": [
    "numeros"
   ]
  },
  {
   "cell_type": "code",
   "execution_count": 243,
   "id": "b71e58da-90bf-4a62-8586-eacac7f37d43",
   "metadata": {},
   "outputs": [],
   "source": [
    "vocales = frozenset( { 'a' , 'e', 'i', 'o', 'u' } )"
   ]
  },
  {
   "cell_type": "markdown",
   "id": "01b5b355-49a9-4a8c-a41b-41cd6d9848be",
   "metadata": {},
   "source": [
    "La linea comentada de abajo nos daria error "
   ]
  },
  {
   "cell_type": "code",
   "execution_count": 248,
   "id": "62770444-0f78-41c9-a538-ab8407991d3f",
   "metadata": {},
   "outputs": [],
   "source": [
    "##vocales.add('c') "
   ]
  },
  {
   "cell_type": "markdown",
   "id": "1793c1c6-a53b-446a-aa60-b0d832859536",
   "metadata": {},
   "source": [
    "## 6. Diccionarios"
   ]
  },
  {
   "cell_type": "code",
   "execution_count": 285,
   "id": "d538859e-fd34-44b3-ba04-1343f94f8f8d",
   "metadata": {},
   "outputs": [],
   "source": [
    "info = {\n",
    "    \"nombre\": \"Uayeb\"\n",
    "    , \"apellido\": \"Caballero\"\n",
    "}"
   ]
  },
  {
   "cell_type": "code",
   "execution_count": 287,
   "id": "4b339403-4199-4b21-a173-2cfbc3eef1ec",
   "metadata": {},
   "outputs": [],
   "source": [
    "info[\"edad\"] = 35"
   ]
  },
  {
   "cell_type": "code",
   "execution_count": 289,
   "id": "a51803da-0876-4fa0-9e0c-973b75f08702",
   "metadata": {},
   "outputs": [
    {
     "data": {
      "text/plain": [
       "{'nombre': 'Uayeb', 'apellido': 'Caballero', 'edad': 35}"
      ]
     },
     "execution_count": 289,
     "metadata": {},
     "output_type": "execute_result"
    }
   ],
   "source": [
    "info"
   ]
  },
  {
   "cell_type": "code",
   "execution_count": 291,
   "id": "7f78ec6f-d89f-4f25-b6f1-e4dab3f6f8c7",
   "metadata": {},
   "outputs": [],
   "source": [
    "info[\"skills\"] = [\"Auto aprendizaje\", \"Priorizar Actividades\"]"
   ]
  },
  {
   "cell_type": "code",
   "execution_count": 265,
   "id": "ba5e47b5-2b68-4dae-a888-4400b1ba445b",
   "metadata": {},
   "outputs": [],
   "source": [
    "del info[\"skills\"]"
   ]
  },
  {
   "cell_type": "code",
   "execution_count": 277,
   "id": "f3aad9c6-36ef-483c-a326-dc77040ceb29",
   "metadata": {},
   "outputs": [],
   "source": [
    "del info[\"skills\"][0]"
   ]
  },
  {
   "cell_type": "code",
   "execution_count": 293,
   "id": "431d5143-8da3-4191-b2dc-bb664fd14d97",
   "metadata": {},
   "outputs": [],
   "source": [
    "info[\"skills\"].append( \"Empatia\" )"
   ]
  },
  {
   "cell_type": "code",
   "execution_count": 299,
   "id": "877e7fa2-c395-47c7-ba3e-c6c9f3ce6e4b",
   "metadata": {},
   "outputs": [],
   "source": [
    "info[\"Trabajos\"] = {\n",
    "    \"UNAH\": [\"Preparar Material\",\"Revisar Tareas\"]\n",
    "    , \"Edusoft\": [\"Analizar Datos\", \"Construir Modelos Estadisticos\"]\n",
    "}"
   ]
  },
  {
   "cell_type": "code",
   "execution_count": 301,
   "id": "d8897201-05a6-4d51-933d-e33fecb30377",
   "metadata": {},
   "outputs": [
    {
     "data": {
      "text/plain": [
       "{'nombre': 'Uayeb',\n",
       " 'apellido': 'Caballero',\n",
       " 'edad': 35,\n",
       " 'skills': ['Auto aprendizaje', 'Priorizar Actividades', 'Empatia'],\n",
       " 'Trabajos': {'UNAH': ['Preparar Material', 'Revisar Tareas'],\n",
       "  'Edusoft': ['Analizar Datos', 'Construir Modelos Estadisticos']}}"
      ]
     },
     "execution_count": 301,
     "metadata": {},
     "output_type": "execute_result"
    }
   ],
   "source": [
    "info"
   ]
  },
  {
   "cell_type": "markdown",
   "id": "237dd7bc-a478-4f13-925c-ab60704d5047",
   "metadata": {},
   "source": [
    "Quiero extraer mi segunda responsabilidad de mi segundo trabajo"
   ]
  },
  {
   "cell_type": "code",
   "execution_count": 336,
   "id": "efbe363e-cd43-412e-b39c-e0e9c516cc69",
   "metadata": {},
   "outputs": [
    {
     "data": {
      "text/plain": [
       "'Construir Modelos Estadisticos'"
      ]
     },
     "execution_count": 336,
     "metadata": {},
     "output_type": "execute_result"
    }
   ],
   "source": [
    "info[ \"Trabajos\" ][list(info[ \"Trabajos\" ].keys())[1]][1]"
   ]
  }
 ],
 "metadata": {
  "kernelspec": {
   "display_name": "Python 3 (ipykernel)",
   "language": "python",
   "name": "python3"
  },
  "language_info": {
   "codemirror_mode": {
    "name": "ipython",
    "version": 3
   },
   "file_extension": ".py",
   "mimetype": "text/x-python",
   "name": "python",
   "nbconvert_exporter": "python",
   "pygments_lexer": "ipython3",
   "version": "3.11.5"
  }
 },
 "nbformat": 4,
 "nbformat_minor": 5
}
